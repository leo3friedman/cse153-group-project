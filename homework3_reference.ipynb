{
 "cells": [
  {
   "cell_type": "code",
   "execution_count": null,
   "metadata": {},
   "outputs": [],
   "source": []
  },
  {
   "cell_type": "markdown",
   "metadata": {},
   "source": [
    "## Homework 3: Symbolic Music Generation Using Markov Chains"
   ]
  },
  {
   "cell_type": "markdown",
   "metadata": {},
   "source": [
    "**Before starting the homework:**\n",
    "\n",
    "Please run `pip install miditok` to install the [MiDiTok](https://github.com/Natooz/MidiTok) package, which simplifies MIDI file processing by making note and beat extraction more straightforward.\n",
    "\n",
    "You’re also welcome to experiment with other MIDI processing libraries such as [mido](https://github.com/mido/mido), [pretty_midi](https://github.com/craffel/pretty-midi) and [miditoolkit](https://github.com/YatingMusic/miditoolkit). However, with these libraries, you’ll need to handle MIDI quantization yourself, for example, converting note-on/note-off events into beat positions and durations."
   ]
  },
  {
   "cell_type": "code",
   "execution_count": null,
   "metadata": {},
   "outputs": [],
   "source": [
    "# install some packages\n",
    "# !pip install miditok\n",
    "# !pip install symusic"
   ]
  },
  {
   "cell_type": "code",
   "execution_count": 2,
   "metadata": {},
   "outputs": [
    {
     "name": "stderr",
     "output_type": "stream",
     "text": [
      "/Users/leofriedman/Desktop/ucsd/cse_253/cse153-group-project/.env/lib/python3.10/site-packages/tqdm/auto.py:21: TqdmWarning: IProgress not found. Please update jupyter and ipywidgets. See https://ipywidgets.readthedocs.io/en/stable/user_install.html\n",
      "  from .autonotebook import tqdm as notebook_tqdm\n"
     ]
    }
   ],
   "source": [
    "# import required packages\n",
    "import random\n",
    "random.seed(42)\n",
    "from glob import glob\n",
    "from collections import defaultdict\n",
    "\n",
    "import numpy as np\n",
    "from numpy.random import choice\n",
    "\n",
    "from symusic import Score\n",
    "from miditok import REMI, TokenizerConfig\n",
    "from midiutil import MIDIFile"
   ]
  },
  {
   "cell_type": "markdown",
   "metadata": {},
   "source": [
    "### Load music dataset\n",
    "We use a subset of [PDMX dataset](https://zenodo.org/records/14984509) for this homework. \n",
    "\n",
    "Please download the data through XXXXX and unzip.\n",
    "\n",
    "All pieces are monophonic music (i.e. one melody line) in time signature 4/4."
   ]
  },
  {
   "cell_type": "code",
   "execution_count": 4,
   "metadata": {},
   "outputs": [
    {
     "data": {
      "text/plain": [
       "4502"
      ]
     },
     "execution_count": 4,
     "metadata": {},
     "output_type": "execute_result"
    }
   ],
   "source": [
    "midi_files = glob('nesmdb_midi/train/*.mid')\n",
    "len(midi_files)"
   ]
  },
  {
   "cell_type": "markdown",
   "metadata": {},
   "source": [
    "### Train a tokenizer with the REMI method in MidiTok"
   ]
  },
  {
   "cell_type": "code",
   "execution_count": 5,
   "metadata": {},
   "outputs": [
    {
     "name": "stdout",
     "output_type": "stream",
     "text": [
      "\n",
      "\n",
      "\n"
     ]
    }
   ],
   "source": [
    "config = TokenizerConfig(num_velocities=1, use_chords=False, use_programs=False)\n",
    "tokenizer = REMI(config)\n",
    "tokenizer.train(vocab_size=1000, files_paths=midi_files)"
   ]
  },
  {
   "cell_type": "markdown",
   "metadata": {},
   "source": [
    "### Use the trained tokenizer to get tokens for each midi file\n",
    "In REMI representation, each note will be represented with four tokens: `Position, Pitch, Velocity, Duration`, e.g. `('Position_28', 'Pitch_74', 'Velocity_127', 'Duration_0.4.8')`, and `Bar_None` token indicates the beginning of a new bar."
   ]
  },
  {
   "cell_type": "code",
   "execution_count": 6,
   "metadata": {},
   "outputs": [
    {
     "data": {
      "text/plain": [
       "['Bar_None',\n",
       " 'Position_0',\n",
       " 'Pitch_62',\n",
       " 'Velocity_127',\n",
       " 'Duration_0.6.8',\n",
       " 'Position_6',\n",
       " 'Pitch_62',\n",
       " 'Velocity_127',\n",
       " 'Duration_0.1.8',\n",
       " 'Position_8']"
      ]
     },
     "execution_count": 6,
     "metadata": {},
     "output_type": "execute_result"
    }
   ],
   "source": [
    "midi = Score(midi_files[0])\n",
    "tokens = tokenizer(midi)[0].tokens\n",
    "tokens[:10]"
   ]
  },
  {
   "cell_type": "markdown",
   "metadata": {},
   "source": [
    "1. Write a function to extract note pitch events from a midi file; extract all note pitch events from the dataset and output a dictionary that maps note pitch events to the number of times they occur in the files. (e.g. {60: 120, 61: 58, …}).\n",
    "\n",
    "`note_extraction()`\n",
    "- **Input**: a midi file\n",
    "\n",
    "- **Output**: a list of note pitch events\n",
    "\n",
    "`note_frequency()`\n",
    "- **Input**: all midi files `midi_files`\n",
    "\n",
    "- **Output**: a dictionary that maps note pitch events to the number of times they occur, e.g {60: 120, 61: 58, …}"
   ]
  },
  {
   "cell_type": "code",
   "execution_count": 7,
   "metadata": {},
   "outputs": [],
   "source": [
    "def note_extraction(midi_file):\n",
    "    # Q1a: Your code goes here\n",
    "    note_events = []\n",
    "    midi = Score(midi_file)\n",
    "    tokens = tokenizer(midi)[0].tokens\n",
    "    for token in tokens:\n",
    "        if 'Pitch' in token:\n",
    "            note = int(token.split('_')[1])\n",
    "            note_events.append(note)\n",
    "    return note_events"
   ]
  },
  {
   "cell_type": "code",
   "execution_count": 8,
   "metadata": {},
   "outputs": [],
   "source": [
    "def note_frequency(midi_files):\n",
    "    # Q1b: Your code goes here\n",
    "    note_counts = defaultdict(int)\n",
    "    for midi_file in midi_files:\n",
    "        note_events = note_extraction(midi_file)\n",
    "        for note in note_events:\n",
    "            note_counts[note] += 1\n",
    "    return note_counts"
   ]
  },
  {
   "cell_type": "markdown",
   "metadata": {},
   "source": [
    "2. Write a function to normalize the above dictionary to produce probability scores. (e.g. {60: 0.13, 61: 0.065, …})\n",
    "\n",
    "`note_unigram_probability()`\n",
    "- **Input**: all midi files `midi_files`\n",
    "\n",
    "- **Output**: a dictionary that maps note pitch events to probabilities they occur in the dataset, e.g. {60: 0.13, 61: 0.06, …}"
   ]
  },
  {
   "cell_type": "code",
   "execution_count": 9,
   "metadata": {},
   "outputs": [],
   "source": [
    "def note_unigram_probability(midi_files):\n",
    "    note_counts = note_frequency(midi_files)\n",
    "    \n",
    "    # Q2: Your code goes here\n",
    "    unigramProbabilities = {}\n",
    "    counts = sum(list(note_counts.values()))\n",
    "    for n in note_counts:\n",
    "        unigramProbabilities[n] = note_counts[n] / counts\n",
    "    return unigramProbabilities"
   ]
  },
  {
   "cell_type": "markdown",
   "metadata": {},
   "source": [
    "3. Generate a table of pairwise probabilities containing p(next_note | previous_note) for the dataset; write a function that randomly generates the next note based on the previous note based on this distribution.\n",
    "\n",
    "`note_bigram_probability()`\n",
    "- **Input**: all midi files `midi_files`\n",
    "\n",
    "- **Output**: two dictionaries:\n",
    "\n",
    "  - `bigramTransitions`: key - previous_note, value - a list of next_note, e.g. {60:[62, 64, ..], 62:[60, 64, ..], ...}\n",
    "\n",
    "  - `bigramTransitionProbabilities`: key - previous_note, value - a list of probabilities for next_note in the same order of `bigramTransitions`, e.g. {60:[0.3, 0.4, ..], 62:[0.2, 0.1, ..], ...}\n",
    "\n",
    "`sample_next_note()`\n",
    "- **Input**: a note\n",
    "\n",
    "- **Output**: next note sampled from pairwise probabilities"
   ]
  },
  {
   "cell_type": "code",
   "execution_count": 10,
   "metadata": {},
   "outputs": [],
   "source": [
    "def note_bigram_probability(midi_files):\n",
    "    # Q3a: Your code goes here\n",
    "    bigrams = defaultdict(int)\n",
    "    \n",
    "    for file in midi_files:\n",
    "        note_events = note_extraction(file)\n",
    "        for (note1, note2) in zip(note_events[:-1], note_events[1:]):\n",
    "            bigrams[(note1, note2)] += 1\n",
    "            \n",
    "    bigramTransitions = defaultdict(list)\n",
    "    bigramTransitionProbabilities = defaultdict(list)\n",
    "\n",
    "    for b1,b2 in bigrams:\n",
    "        bigramTransitions[b1].append(b2)\n",
    "        bigramTransitionProbabilities[b1].append(bigrams[(b1,b2)])\n",
    "        \n",
    "    for k in bigramTransitionProbabilities:\n",
    "        Z = sum(bigramTransitionProbabilities[k])\n",
    "        bigramTransitionProbabilities[k] = [x / Z for x in bigramTransitionProbabilities[k]]\n",
    "        \n",
    "    return bigramTransitions, bigramTransitionProbabilities"
   ]
  },
  {
   "cell_type": "code",
   "execution_count": 11,
   "metadata": {},
   "outputs": [],
   "source": [
    "def sample_next_note(note):\n",
    "    # Q3b: Your code goes here\n",
    "    bigramTransitions, bigramTransitionProbabilities = note_bigram_probability(midi_files)\n",
    "    next_note = choice(bigramTransitions[note], 1, p=bigramTransitionProbabilities[note])[0]\n",
    "    return next_note"
   ]
  },
  {
   "cell_type": "markdown",
   "metadata": {},
   "source": [
    "4. Write a function to calculate the perplexity of your model on a midi file.\n",
    "\n",
    "    The perplexity of a model is defined as \n",
    "\n",
    "    $\\quad \\text{exp}(-\\frac{1}{N} \\sum_{i=1}^N \\text{log}(p(w_i|w_{i-1})))$\n",
    "\n",
    "    where $p(w_1|w_0) = p(w_1)$, $p(w_i|w_{i-1}) (i>1)$ refers to the pairwise probability p(next_note | previous_note).\n",
    "\n",
    "`note_bigram_perplexity()`\n",
    "- **Input**: a midi file\n",
    "\n",
    "- **Output**: perplexity value"
   ]
  },
  {
   "cell_type": "code",
   "execution_count": 12,
   "metadata": {},
   "outputs": [],
   "source": [
    "def note_bigram_perplexity(midi_file):\n",
    "    unigramProbabilities = note_unigram_probability(midi_files)\n",
    "    bigramTransitions, bigramTransitionProbabilities = note_bigram_probability(midi_files)\n",
    "    \n",
    "    # Q4: Your code goes here\n",
    "    note_events = note_extraction(midi_file)\n",
    "    perplexities = [unigramProbabilities[note_events[0]]]\n",
    "    for (note1, note2) in zip(note_events[:-1], note_events[1:]):\n",
    "        index = bigramTransitions[note1].index(note2)\n",
    "        prob = bigramTransitionProbabilities[note1][index]\n",
    "        perplexities.append(prob)\n",
    "\n",
    "    assert len(perplexities) == len(note_events)\n",
    "    perplexity = np.exp(-np.sum(np.log(perplexities)) / len(note_events))\n",
    "    return perplexity"
   ]
  },
  {
   "cell_type": "markdown",
   "metadata": {},
   "source": [
    "5. Implement a second-order Markov chain, i.e., one which estimates p(next_note | next_previous_note, previous_note); write a function to compute the perplexity of this new model on a midi file. \n",
    "\n",
    "    The perplexity of this model is defined as \n",
    "\n",
    "    $\\quad \\text{exp}(-\\frac{1}{N} \\sum_{i=1}^N \\text{log}(p(w_i|w_{i-2}, w_{i-1})))$\n",
    "\n",
    "    where $p(w_1|w_{-1}, w_0) = p(w_1)$, $p(w_2|w_0, w_1) = p(w_2|w_1)$, $p(w_i|w_{i-2}, w_{i-1}) (i>2)$ refers to the probability p(next_note | next_previous_note, previous_note).\n",
    "\n",
    "\n",
    "`note_trigram_probability()`\n",
    "- **Input**: all midi files `midi_files`\n",
    "\n",
    "- **Output**: two dictionaries:\n",
    "\n",
    "  - `trigramTransitions`: key - (next_previous_note, previous_note), value - a list of next_note, e.g. {(60, 62):[64, 66, ..], (60, 64):[60, 64, ..], ...}\n",
    "\n",
    "  - `trigramTransitionProbabilities`: key - (next_previous_note, previous_note), value - a list of probabilities for next_note in the same order of `trigramTransitions`, e.g. {(60, 62):[0.2, 0.2, ..], (60, 64):[0.4, 0.1, ..], ...}\n",
    "\n",
    "`note_trigram_perplexity()`\n",
    "- **Input**: a midi file\n",
    "\n",
    "- **Output**: perplexity value"
   ]
  },
  {
   "cell_type": "code",
   "execution_count": 13,
   "metadata": {},
   "outputs": [],
   "source": [
    "def note_trigram_probability(midi_files):\n",
    "    # Q5a: Your code goes here\n",
    "    trigrams = defaultdict(int)\n",
    "    for file in midi_files:\n",
    "        note_events = note_extraction(file)\n",
    "        for (note1, note2, note3) in zip(note_events[:-2], note_events[1:-1], note_events[2:]):\n",
    "            trigrams[(note1, note2, note3)] += 1\n",
    "            \n",
    "    trigramTransitions = defaultdict(list)\n",
    "    trigramTransitionProbabilities = defaultdict(list)\n",
    "\n",
    "    for t1,t2,t3 in trigrams:\n",
    "        trigramTransitions[(t1,t2)].append(t3)\n",
    "        trigramTransitionProbabilities[(t1,t2)].append(trigrams[(t1,t2,t3)])\n",
    "        \n",
    "    for k in trigramTransitionProbabilities:\n",
    "        Z = sum(trigramTransitionProbabilities[k])\n",
    "        trigramTransitionProbabilities[k] = [x / Z for x in trigramTransitionProbabilities[k]]\n",
    "        \n",
    "    return trigramTransitions, trigramTransitionProbabilities"
   ]
  },
  {
   "cell_type": "code",
   "execution_count": 14,
   "metadata": {},
   "outputs": [],
   "source": [
    "def note_trigram_perplexity(midi_file):\n",
    "    unigramProbabilities = note_unigram_probability(midi_files)\n",
    "    bigramTransitions, bigramTransitionProbabilities = note_bigram_probability(midi_files)\n",
    "    trigramTransitions, trigramTransitionProbabilities = note_trigram_probability(midi_files)\n",
    "    \n",
    "    # Q5b: Your code goes here\n",
    "    note_events = note_extraction(midi_file)\n",
    "    perplexities = [unigramProbabilities[note_events[0]]]\n",
    "    index = bigramTransitions[note_events[0]].index(note_events[1])\n",
    "    prob = bigramTransitionProbabilities[note_events[0]][index]\n",
    "    perplexities.append(prob)\n",
    "    \n",
    "    for (note1, note2, note3) in zip(note_events[:-2], note_events[1:-1], note_events[2:]):\n",
    "        index = trigramTransitions[(note1, note2)].index(note3)\n",
    "        prob = trigramTransitionProbabilities[(note1, note2)][index]\n",
    "        perplexities.append(prob)\n",
    "\n",
    "    assert len(perplexities) == len(note_events)\n",
    "    perplexity = np.exp(-np.sum(np.log(perplexities)) / len(note_events))\n",
    "    return perplexity"
   ]
  },
  {
   "cell_type": "markdown",
   "metadata": {},
   "source": [
    "6. Our model currently doesn’t have any knowledge of beats. Write a function that extracts beat lengths and outputs a list of [(beat position; beat length)] values.\n",
    "\n",
    "    Recall that each note will be encoded as `Position, Pitch, Velocity, Duration` using REMI. Please keep the `Position` value for beat position, and convert `Duration` to beat length using provided lookup table `duration2length` (see below).\n",
    "\n",
    "    For example, for a note represented by four tokens `('Position_24', 'Pitch_72', 'Velocity_127', 'Duration_0.4.8')`, the extracted (beat position; beat length) value is `(24, 4)`.\n",
    "\n",
    "    As a result, we will obtain a list like [(0,8),(8,16),(24,4),(28,4),(0,4)...], where the next beat position is the previous beat position + the beat length. As we divide each bar into 32 positions by default, when reaching the end of a bar (i.e. 28 + 4 = 32 in the case of (28, 4)), the beat position reset to 0."
   ]
  },
  {
   "cell_type": "code",
   "execution_count": 15,
   "metadata": {},
   "outputs": [],
   "source": [
    "duration2length = {\n",
    "    '0.2.8': 2,  # sixteenth note, 0.25 beat in 4/4 time signature\n",
    "    '0.4.8': 4,  # eighth note, 0.5 beat in 4/4 time signature\n",
    "    '1.0.8': 8,  # quarter note, 1 beat in 4/4 time signature\n",
    "    '2.0.8': 16, # half note, 2 beats in 4/4 time signature\n",
    "    '4.0.4': 32, # whole note, 4 beats in 4/4 time signature\n",
    "}"
   ]
  },
  {
   "cell_type": "markdown",
   "metadata": {},
   "source": [
    "`beat_extraction()`\n",
    "- **Input**: a midi file\n",
    "\n",
    "- **Output**: a list of (beat position; beat length) values"
   ]
  },
  {
   "cell_type": "code",
   "execution_count": 32,
   "metadata": {},
   "outputs": [],
   "source": [
    "def beat_extraction(midi_file):\n",
    "    # Q6: Your code goes here\n",
    "    midi = Score(midi_file)\n",
    "    tokens = tokenizer(midi)[0].tokens\n",
    "    beats = []\n",
    "    \n",
    "    for i in range(len(tokens)):\n",
    "        if 'Position' in tokens[i] and 'Duration' in tokens[i+3]:\n",
    "            position = int(tokens[i].split('_')[1])\n",
    "            encoded_length = tokens[i+3].split('_')[1]\n",
    "            length = int(encoded_length.split('.')[0]) * 8 + int(encoded_length.split('.')[1]) # TODO: is this correct?\n",
    "            # length = duration2length[tokens[i+3].split('_')[1]]\n",
    "            beats.append((position, length))\n",
    "    return beats"
   ]
  },
  {
   "cell_type": "markdown",
   "metadata": {},
   "source": [
    "7. Implement a Markov chain that computes p(beat_length | previous_beat_length) based on the above function.\n",
    "\n",
    "`beat_bigram_probability()`\n",
    "- **Input**: all midi files `midi_files`\n",
    "\n",
    "- **Output**: two dictionaries:\n",
    "\n",
    "  - `bigramBeatTransitions`: key - previous_beat_length, value - a list of beat_length, e.g. {4:[8, 2, ..], 8:[8, 4, ..], ...}\n",
    "\n",
    "  - `bigramBeatTransitionProbabilities`: key - previous_beat_length, value - a list of probabilities for beat_length in the same order of `bigramBeatTransitions`, e.g. {4:[0.3, 0.2, ..], 8:[0.4, 0.4, ..], ...}"
   ]
  },
  {
   "cell_type": "code",
   "execution_count": 17,
   "metadata": {},
   "outputs": [],
   "source": [
    "def beat_bigram_probability(midi_files):\n",
    "    # Q7: Your code goes here\n",
    "    bigramBeat = defaultdict(int)\n",
    "    for file in midi_files:\n",
    "        beats = beat_extraction(file)\n",
    "        for (beat1, beat2) in zip(beats[:-1], beats[1:]):\n",
    "            bigramBeat[(beat1[1], beat2[1])] += 1\n",
    "            \n",
    "    bigramBeatTransitions = defaultdict(list)\n",
    "    bigramBeatTransitionProbabilities = defaultdict(list)\n",
    "\n",
    "    for b1,b2 in bigramBeat:\n",
    "        bigramBeatTransitions[b1].append(b2)\n",
    "        bigramBeatTransitionProbabilities[b1].append(bigramBeat[(b1,b2)])\n",
    "        \n",
    "    for k in bigramBeatTransitionProbabilities:\n",
    "        Z = sum(bigramBeatTransitionProbabilities[k])\n",
    "        bigramBeatTransitionProbabilities[k] = [x / Z for x in bigramBeatTransitionProbabilities[k]]\n",
    "        \n",
    "    return bigramBeatTransitions, bigramBeatTransitionProbabilities"
   ]
  },
  {
   "cell_type": "markdown",
   "metadata": {},
   "source": [
    "8. Implement a function to compute p(beat length | beat position), and compute the perplexity of your models from Q7 and Q8. For both models, we only consider the probabilities of predicting the sequence of **beat length**.\n",
    "\n",
    "`beat_pos_bigram_probability()`\n",
    "- **Input**: all midi files `midi_files`\n",
    "\n",
    "- **Output**: two dictionaries:\n",
    "\n",
    "  - `bigramBeatPosTransitions`: key - beat_position, value - a list of beat_length\n",
    "\n",
    "  - `bigramBeatPosTransitionProbabilities`: key - beat_position, value - a list of probabilities for beat_length in the same order of `bigramBeatPosTransitions`\n",
    "\n",
    "`beat_bigram_perplexity()`\n",
    "- **Input**: a midi file\n",
    "\n",
    "- **Output**: two perplexity values correspond to the models in Q7 and Q8, respectively"
   ]
  },
  {
   "cell_type": "code",
   "execution_count": 18,
   "metadata": {},
   "outputs": [],
   "source": [
    "def beat_pos_bigram_probability(midi_files):\n",
    "    # Q8a: Your code goes here\n",
    "    bigramBeatPos = defaultdict(int)\n",
    "    for file in midi_files:\n",
    "        beats = beat_extraction(file)\n",
    "        for beat in beats:\n",
    "            bigramBeatPos[(beat[0], beat[1])] += 1\n",
    "            \n",
    "    bigramBeatPosTransitions = defaultdict(list)\n",
    "    bigramBeatPosTransitionProbabilities = defaultdict(list)\n",
    "\n",
    "    for b1,b2 in bigramBeatPos:\n",
    "        bigramBeatPosTransitions[b1].append(b2)\n",
    "        bigramBeatPosTransitionProbabilities[b1].append(bigramBeatPos[(b1,b2)])\n",
    "        \n",
    "    for k in bigramBeatPosTransitionProbabilities:\n",
    "        Z = sum(bigramBeatPosTransitionProbabilities[k])\n",
    "        bigramBeatPosTransitionProbabilities[k] = [x / Z for x in bigramBeatPosTransitionProbabilities[k]]\n",
    "        \n",
    "    return bigramBeatPosTransitions, bigramBeatPosTransitionProbabilities"
   ]
  },
  {
   "cell_type": "code",
   "execution_count": 19,
   "metadata": {},
   "outputs": [],
   "source": [
    "def beat_bigram_perplexity(midi_file):\n",
    "    bigramBeatTransitions, bigramBeatTransitionProbabilities = beat_bigram_probability(midi_files)\n",
    "    bigramBeatPosTransitions, bigramBeatPosTransitionProbabilities = beat_pos_bigram_probability(midi_files)\n",
    "    # Q8b: Your code goes here\n",
    "    # Hint: one more probability function needs to be computed\n",
    "    unigramBeat = defaultdict(int)\n",
    "    for file in midi_files:\n",
    "        beats = beat_extraction(file)\n",
    "        for beat in beats:\n",
    "            unigramBeat[beat[1]] += 1\n",
    "    unigramBeatProbabilities = {}\n",
    "    counts = sum(list(unigramBeat.values()))\n",
    "    for n in unigramBeat:\n",
    "        unigramBeatProbabilities[n] = unigramBeat[n] / counts\n",
    "        \n",
    "    beat_events = beat_extraction(midi_file)\n",
    "    beats = [b[1] for b in beat_events]\n",
    "\n",
    "    # perplexity for Q7\n",
    "    perplexities = [unigramBeatProbabilities[beats[0]]]\n",
    "    for (beat1, beat2) in zip(beats[:-1], beats[1:]):\n",
    "        index = bigramBeatTransitions[beat1].index(beat2)\n",
    "        prob = bigramBeatTransitionProbabilities[beat1][index]\n",
    "        perplexities.append(prob)\n",
    "    assert len(perplexities) == len(beats)\n",
    "    perplexity_Q7 = np.exp(-np.sum(np.log(perplexities)) / len(beats))\n",
    "    \n",
    "    # perplexity for Q8\n",
    "    perplexities = []\n",
    "    for (beat_position, beat_length) in beat_events:\n",
    "        index = bigramBeatPosTransitions[beat_position].index(beat_length)\n",
    "        prob = bigramBeatPosTransitionProbabilities[beat_position][index]\n",
    "        perplexities.append(prob)\n",
    "    assert len(perplexities) == len(beat_events)\n",
    "    perplexity_Q8 = np.exp(-np.sum(np.log(perplexities)) / len(beats))\n",
    "    \n",
    "    return perplexity_Q7, perplexity_Q8"
   ]
  },
  {
   "cell_type": "markdown",
   "metadata": {},
   "source": [
    "9. Implement a Markov chain that computes p(beat_length | previous_beat_length, beat_position), and report its perplexity. \n",
    "\n",
    "`beat_trigram_probability()`\n",
    "- **Input**: all midi files `midi_files`\n",
    "\n",
    "- **Output**: two dictionaries:\n",
    "\n",
    "  - `trigramBeatTransitions`: key - (previous_beat_length, beat_position), value - a list of beat_length\n",
    "\n",
    "  - `trigramBeatTransitionProbabilities`: key: (previous_beat_length, beat_position), value: a list of probabilities for beat_length in the same order of `trigramsBeatTransition`\n",
    "\n",
    "`beat_trigram_perplexity()`\n",
    "- **Input**: a midi file\n",
    "\n",
    "- **Output**: perplexity value"
   ]
  },
  {
   "cell_type": "code",
   "execution_count": 20,
   "metadata": {},
   "outputs": [],
   "source": [
    "def beat_trigram_probability(midi_files):\n",
    "    # Q9a: Your code goes here\n",
    "    trigramBeat = defaultdict(int)\n",
    "    for file in midi_files:\n",
    "        beats = beat_extraction(file)\n",
    "        for (beat1, beat2) in zip(beats[:-1], beats[1:]):\n",
    "            trigramBeat[(beat1[1], beat2[0], beat2[1])] += 1\n",
    "            \n",
    "    trigramBeatTransitions = defaultdict(list)\n",
    "    trigramBeatTransitionProbabilities = defaultdict(list)\n",
    "\n",
    "    for t1,t2,t3 in trigramBeat:\n",
    "        trigramBeatTransitions[(t1,t2)].append(t3)\n",
    "        trigramBeatTransitionProbabilities[(t1,t2)].append(trigramBeat[(t1,t2,t3)])\n",
    "        \n",
    "    for k in trigramBeatTransitionProbabilities:\n",
    "        Z = sum(trigramBeatTransitionProbabilities[k])\n",
    "        trigramBeatTransitionProbabilities[k] = [x / Z for x in trigramBeatTransitionProbabilities[k]]\n",
    "        \n",
    "    return trigramBeatTransitions, trigramBeatTransitionProbabilities"
   ]
  },
  {
   "cell_type": "code",
   "execution_count": 21,
   "metadata": {},
   "outputs": [],
   "source": [
    "def beat_trigram_perplexity(midi_file):\n",
    "    bigramBeatPosTransitions, bigramBeatPosTransitionProbabilities = beat_pos_bigram_probability(midi_files)\n",
    "    trigramBeatTransitions, trigramBeatTransitionProbabilities = beat_trigram_probability(midi_files)\n",
    "    # Q9b: Your code goes here\n",
    "    beats = beat_extraction(midi_file)\n",
    "\n",
    "    perplexities = []\n",
    "    index = bigramBeatPosTransitions[beats[0][0]].index(beats[0][1])\n",
    "    prob = bigramBeatPosTransitionProbabilities[beats[0][0]][index]\n",
    "    perplexities.append(prob)\n",
    "\n",
    "    for (beat1, beat2) in zip(beats[:-1], beats[1:]):\n",
    "        index = trigramBeatTransitions[(beat1[1], beat2[0])].index(beat2[1])\n",
    "        prob = trigramBeatTransitionProbabilities[(beat1[1], beat2[0])][index]\n",
    "        perplexities.append(prob)\n",
    "\n",
    "    assert len(perplexities) == len(beats)\n",
    "    perplexity = np.exp(-np.sum(np.log(perplexities)) / len(beats))\n",
    "    return perplexity"
   ]
  },
  {
   "cell_type": "markdown",
   "metadata": {},
   "source": [
    "10. Use the model from Q5 to generate 500 notes, and the model from Q8 to generate beat lengths for each note. Save the generated music as a midi file (see code from workbook1) as q10.mid. Remember to reset the beat position to 0 when reaching the end of a bar.\n",
    "\n",
    "`music_generate`\n",
    "- **Input**: target length, e.g. 500\n",
    "\n",
    "- **Output**: a midi file q10.mid\n",
    "\n",
    "Note: the duration of one beat in MIDIUtil is 1, while in MidiTok is 8. Divide beat length by 8 if you use methods in MIDIUtil to save midi files."
   ]
  },
  {
   "cell_type": "code",
   "execution_count": 38,
   "metadata": {},
   "outputs": [],
   "source": [
    "def music_generate(length, unigramProbabilities, bigramTransitions, bigramTransitionProbabilities, trigramTransitions, trigramTransitionProbabilities, bigramBeatPosTransitions, bigramBeatPosTransitionProbabilities):\n",
    "    # Your code goes here ...\n",
    "    first_note = choice(list(unigramProbabilities.keys()), 1, p=list(unigramProbabilities.values())).item()\n",
    "    second_note = choice(bigramTransitions[first_note], 1, p=bigramTransitionProbabilities[first_note]).item()\n",
    "    sampled_notes = [first_note, second_note]\n",
    "    while len(sampled_notes) < length:\n",
    "        next_note = choice(trigramTransitions[(sampled_notes[-2], sampled_notes[-1])], 1, \n",
    "                            p=trigramTransitionProbabilities[(sampled_notes[-2], sampled_notes[-1])])\n",
    "        sampled_notes.append(next_note.item())\n",
    "    \n",
    "    first_beat = choice(bigramBeatPosTransitions[0], 1, p=bigramBeatPosTransitionProbabilities[0]).item()\n",
    "    sampled_beats = [(0, first_beat)]\n",
    "    while len(sampled_beats) < length:\n",
    "        beat_position = sum(sampled_beats[-1]) % 32\n",
    "        beat_length = choice(bigramBeatPosTransitions[beat_position], 1, \n",
    "                        p=bigramBeatPosTransitionProbabilities[beat_position]).item()\n",
    "        sampled_beats.append((beat_position, beat_length))\n",
    "    sampled_beats = [beat[1] / 8 for beat in sampled_beats]\n",
    "    \n",
    "    # save the generated music as a midi file\n",
    "    midi = MIDIFile(1)\n",
    "    track = 0\n",
    "    time = 0\n",
    "    tempo = 120\n",
    "    midi.addTempo(track, time, tempo)\n",
    "    \n",
    "    current_time = 0\n",
    "    for pitch, duration in zip(sampled_notes, sampled_beats):\n",
    "        midi.addNote(track, 0, pitch, current_time, duration, 100)\n",
    "        current_time += duration\n",
    "    with open(\"markov_nes.mid\", \"wb\") as f:\n",
    "        midi.writeFile(f)"
   ]
  },
  {
   "cell_type": "code",
   "execution_count": 36,
   "metadata": {},
   "outputs": [],
   "source": [
    "# sample notes\n",
    "unigramProbabilities = note_unigram_probability(midi_files)\n",
    "bigramTransitions, bigramTransitionProbabilities = note_bigram_probability(midi_files)\n",
    "trigramTransitions, trigramTransitionProbabilities = note_trigram_probability(midi_files)\n",
    "# sample beats\n",
    "bigramBeatPosTransitions, bigramBeatPosTransitionProbabilities = beat_pos_bigram_probability(midi_files)"
   ]
  },
  {
   "cell_type": "code",
   "execution_count": 41,
   "metadata": {},
   "outputs": [],
   "source": [
    "music_generate(500, unigramProbabilities, bigramTransitions, bigramTransitionProbabilities, trigramTransitions, trigramTransitionProbabilities, bigramBeatPosTransitions, bigramBeatPosTransitionProbabilities)"
   ]
  },
  {
   "cell_type": "code",
   "execution_count": 40,
   "metadata": {},
   "outputs": [
    {
     "name": "stdout",
     "output_type": "stream",
     "text": [
      "pygame 2.6.1 (SDL 2.28.4, Python 3.10.3)\n",
      "Hello from the pygame community. https://www.pygame.org/contribute.html\n"
     ]
    }
   ],
   "source": [
    "import pygame\n",
    "\n",
    "pygame.init()\n",
    "pygame.mixer.init()\n",
    "pygame.mixer.music.load(\"q10.mid\")\n",
    "pygame.mixer.music.play()\n",
    "\n",
    "# Keep the script running to allow the music to play\n",
    "while pygame.mixer.music.get_busy():\n",
    "    pygame.time.Clock().tick(10)\n"
   ]
  }
 ],
 "metadata": {
  "kernelspec": {
   "display_name": ".env",
   "language": "python",
   "name": "python3"
  },
  "language_info": {
   "codemirror_mode": {
    "name": "ipython",
    "version": 3
   },
   "file_extension": ".py",
   "mimetype": "text/x-python",
   "name": "python",
   "nbconvert_exporter": "python",
   "pygments_lexer": "ipython3",
   "version": "3.10.3"
  }
 },
 "nbformat": 4,
 "nbformat_minor": 2
}
