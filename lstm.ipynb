{
 "cells": [
  {
   "cell_type": "code",
   "execution_count": 34,
   "id": "7a57a6cf",
   "metadata": {},
   "outputs": [],
   "source": [
    "# !pip install miditoolkit \n",
    "# !pip install magenta"
   ]
  },
  {
   "cell_type": "code",
   "execution_count": 24,
   "id": "ba0a244f",
   "metadata": {},
   "outputs": [],
   "source": [
    "import os\n",
    "import random\n",
    "from miditoolkit import MidiFile\n",
    "import matplotlib.pyplot as plt\n",
    "from collections import Counter\n",
    "import subprocess\n",
    "import datetime\n",
    "from miditok import REMI, TokenizerConfig\n",
    "from miditok.pytorch_data import DatasetMIDI, DataCollator\n",
    "import torch\n",
    "import torch.nn as nn\n",
    "import torch.optim as optim\n",
    "import torch.nn.functional as F\n",
    "from torch.utils.data import Dataset, DataLoader\n"
   ]
  },
  {
   "cell_type": "markdown",
   "id": "f5c64c6a",
   "metadata": {},
   "source": [
    "### Data Exploration"
   ]
  },
  {
   "cell_type": "code",
   "execution_count": 19,
   "id": "0b01840e",
   "metadata": {},
   "outputs": [],
   "source": [
    "midi_dirpath = 'nesmdb_midi/'\n",
    "midi_train_dirpath = os.path.join(midi_dirpath, 'train')\n",
    "midi_test_dirpath = os.path.join(midi_dirpath, 'test')\n",
    "midi_train_filesnames = os.listdir(midi_train_dirpath)\n",
    "midi_test_filesnames = os.listdir(midi_test_dirpath)\n",
    "\n",
    "midi_train_filepaths = [os.path.join(midi_train_dirpath, filename) for filename in midi_train_filesnames]\n",
    "midi_test_filepaths = [os.path.join(midi_test_dirpath, filename) for filename in midi_test_filesnames]"
   ]
  },
  {
   "cell_type": "code",
   "execution_count": 15,
   "id": "fc4d1332",
   "metadata": {},
   "outputs": [],
   "source": [
    "def print_progress_bar(iteration, total, prefix='', length=50):\n",
    "    percent = (\"{0:.1f}\").format(100 * (iteration / float(total)))\n",
    "    filled_length = int(length * iteration // total)\n",
    "    bar = '█' * filled_length + '-' * (length - filled_length)\n",
    "    print(f'\\r{prefix} |{bar}| {percent}% Complete', end='\\r', flush=True)\n",
    "    if iteration == total:\n",
    "        print()"
   ]
  },
  {
   "cell_type": "code",
   "execution_count": 14,
   "id": "9dac49b2",
   "metadata": {},
   "outputs": [],
   "source": [
    "def to_pretty_midi(filepaths: list, num_samples: int = 100) -> list: \n",
    "    sampled_filepaths = random.sample(filepaths, num_samples)\n",
    "    midis = []\n",
    "    for i, filepath in enumerate(sampled_filepaths):\n",
    "        print_progress_bar(i + 1, num_samples, prefix='Converting MIDI files to PrettyMIDI')\n",
    "        try:\n",
    "            midi = MidiFile(filepath)\n",
    "            midis.append(midi)\n",
    "        except Exception as e:\n",
    "            print(f\"Error processing {filepath}: {e}\")\n",
    "        \n",
    "    return midis"
   ]
  },
  {
   "cell_type": "code",
   "execution_count": 16,
   "id": "97cc8a3d",
   "metadata": {},
   "outputs": [
    {
     "name": "stdout",
     "output_type": "stream",
     "text": [
      "Converting MIDI files to PrettyMIDI |██████████████████████████████████████████████████| 100.0% Complete\n"
     ]
    }
   ],
   "source": [
    "midis = to_pretty_midi(midi_train_filepaths, num_samples=len(midi_train_filepaths))\n"
   ]
  },
  {
   "cell_type": "code",
   "execution_count": 38,
   "id": "a14b1b65",
   "metadata": {},
   "outputs": [
    {
     "name": "stdout",
     "output_type": "stream",
     "text": [
      "22050\n"
     ]
    }
   ],
   "source": [
    "print(midis[0].ticks_per_beat)"
   ]
  },
  {
   "cell_type": "code",
   "execution_count": null,
   "id": "4bcca336",
   "metadata": {},
   "outputs": [
    {
     "name": "stdout",
     "output_type": "stream",
     "text": [
      "Instrument count distribution: {3: 1509, 4: 2439, 2: 450, 1: 102, 0: 2}\n",
      "Unique instruments: {80, 81, 38, 121}\n",
      "Unique instruments distribution: {80: 4334, 81: 4259, 38: 4045, 121: 2647}\n",
      "Instrument set distribution: {(38, 80, 81): 1327, (38, 80, 81, 121): 2439, (80, 81): 277, (38, 81): 58, (38, 80, 121): 50, (38, 80): 97, (80, 81, 121): 95, (38,): 29, (38, 121): 8, (80,): 41, (38, 81, 121): 37, (81,): 24, (80, 121): 8, (121,): 8, (): 2, (81, 121): 2}\n"
     ]
    }
   ],
   "source": [
    "instrument_count_distribution = Counter(len(midi.instruments) for midi in midis)\n",
    "unique_instruments = set([int(instrument.program) for midi in midis for instrument in midi.instruments])\n",
    "unique_instruments_distribution = Counter([int(instrument.program) for midi in midis for instrument in midi.instruments])\n",
    "instrument_sets_distribution = Counter(tuple(sorted([int(instrument.program) for instrument in midi.instruments])) for midi in midis)\n",
    "print(\"Instrument count distribution:\", dict(instrument_count_distribution))\n",
    "print(\"Unique instruments:\", unique_instruments)\n",
    "print(\"Unique instruments distribution:\", dict(unique_instruments_distribution))\n",
    "print(\"Instrument set distribution:\", dict(instrument_sets_distribution))"
   ]
  },
  {
   "cell_type": "code",
   "execution_count": null,
   "id": "4d5b78a3",
   "metadata": {},
   "outputs": [],
   "source": []
  },
  {
   "cell_type": "markdown",
   "id": "816eb63a",
   "metadata": {},
   "source": [
    "### Custom LSTM"
   ]
  },
  {
   "cell_type": "code",
   "execution_count": 10,
   "id": "77dbf31f",
   "metadata": {},
   "outputs": [],
   "source": [
    "TOKENIZER_SAMPLE_SIZE = 1000"
   ]
  },
  {
   "cell_type": "code",
   "execution_count": 18,
   "id": "6f4eedfa",
   "metadata": {},
   "outputs": [
    {
     "name": "stderr",
     "output_type": "stream",
     "text": [
      "/Users/leofriedman/Desktop/ucsd/cse_253/cse153-group-project/.env/lib/python3.10/site-packages/miditok/tokenizations/remi.py:88: UserWarning: Attribute controls are not compatible with 'config.one_token_stream_for_programs' and multi-vocabulary tokenizers. Disabling them from the config.\n",
      "  super().__init__(tokenizer_config, params)\n"
     ]
    },
    {
     "name": "stdout",
     "output_type": "stream",
     "text": [
      "\n",
      "\n",
      "\n"
     ]
    }
   ],
   "source": [
    "config = TokenizerConfig(\n",
    "    use_programs=True,\n",
    "    programs=list(unique_instruments),\n",
    "    num_velocities=1,\n",
    "    use_chords=False,\n",
    "    use_tempos=False,\n",
    "    use_time_signatures=False\n",
    ")\n",
    "tokenizer = REMI(config)\n",
    "tokenizer_train_files = random.sample(midi_train_filepaths, min(TOKENIZER_SAMPLE_SIZE, len(midi_train_filepaths)))\n",
    "tokenizer.train(vocab_size=1000, files_paths=tokenizer_train_files, )\n",
    "tokenizer.save(\"custom_lstm_tokenizer.json\")"
   ]
  },
  {
   "cell_type": "code",
   "execution_count": null,
   "id": "b11009c9",
   "metadata": {},
   "outputs": [],
   "source": [
    "class CustomMIDITokenizer( ):\n",
    "    def __init__(self, time_divisions=32):\n",
    "        self.time_divisions = time_divisions  # e.g., 32 levels of time shift\n",
    "        self.special_tokens = {\n",
    "            \"PAD\": 0,\n",
    "            \"BOS\": 1,\n",
    "            \"EOS\": 2,\n",
    "        }\n",
    "\n",
    "        self.note_on_offset = 3\n",
    "        self.note_off_offset = self.note_on_offset + 128\n",
    "        self.time_offset = self.note_off_offset + 128\n",
    "        self.vocab_size = self.time_offset + self.time_divisions + 1\n",
    "\n",
    "\n",
    "    \n",
    "    def encode(self, midi):\n",
    "        return self.tokenizer.encode(midi)\n",
    "    \n",
    "    def decode(self, tokens):\n",
    "        return self.tokenizer.decode(tokens)"
   ]
  },
  {
   "cell_type": "code",
   "execution_count": null,
   "id": "3662ffbf",
   "metadata": {},
   "outputs": [
    {
     "name": "stdout",
     "output_type": "stream",
     "text": [
      "511\n"
     ]
    }
   ],
   "source": [
    "\n",
    "MAX_SEQUENCE_LENGTH = 512\n",
    "\n",
    "tokenizer = REMI()  # using defaults parameters (constants.py)\n",
    "train_dataset = DatasetMIDI(\n",
    "    files_paths=midi_train_filepaths,\n",
    "    tokenizer=tokenizer,\n",
    "    max_seq_len=MAX_SEQUENCE_LENGTH,\n",
    "    bos_token_id=tokenizer[\"BOS_None\"],\n",
    "    eos_token_id=tokenizer[\"EOS_None\"],\n",
    ")\n",
    "\n",
    "test_dataset = DatasetMIDI(\n",
    "    files_paths=midi_train_filepaths,\n",
    "    tokenizer=tokenizer,\n",
    "    max_seq_len=MAX_SEQUENCE_LENGTH,\n",
    "    bos_token_id=tokenizer[\"BOS_None\"],\n",
    "    eos_token_id=tokenizer[\"EOS_None\"],\n",
    ")\n",
    "collator = DataCollator(tokenizer.pad_token_id)\n",
    "train_loader = DataLoader(train_dataset, batch_size=4, shuffle=True, collate_fn=collator)\n",
    "test_loader = DataLoader(test_dataset, batch_size=4, shuffle=False, collate_fn=collator)"
   ]
  },
  {
   "cell_type": "code",
   "execution_count": 25,
   "id": "2027f6d4",
   "metadata": {},
   "outputs": [],
   "source": [
    "class MusicRNN(nn.Module):\n",
    "    def __init__(self, vocab_size, embedding_dim, hidden_dim, num_layers):\n",
    "        super(MusicRNN, self).__init__()\n",
    "        self.embedding = nn.Embedding(vocab_size, embedding_dim)\n",
    "        self.rnn = nn.LSTM(\n",
    "            input_size=embedding_dim,\n",
    "            hidden_size=hidden_dim,\n",
    "            num_layers=num_layers,\n",
    "            batch_first=True\n",
    "        )\n",
    "        self.fc = nn.Linear(hidden_dim, vocab_size)\n",
    "\n",
    "    def forward(self, x, hidden=None):\n",
    "        # x: (batch_size, seq_length)\n",
    "        x = self.embedding(x)  # (batch_size, seq_length, embedding_dim)\n",
    "        out, hidden = self.rnn(x, hidden)  # out: (batch_size, seq_length, hidden_dim)\n",
    "        out = self.fc(out)  # (batch_size, seq_length, vocab_size)\n",
    "        return out, hidden"
   ]
  },
  {
   "cell_type": "code",
   "execution_count": 27,
   "id": "d3df388b",
   "metadata": {},
   "outputs": [
    {
     "name": "stdout",
     "output_type": "stream",
     "text": [
      "Epoch 1/20 | Train Loss: 1.3571 | Val Loss: 0.9967\n",
      "Epoch 2/20 | Train Loss: 0.9442 | Val Loss: 0.8875\n"
     ]
    },
    {
     "ename": "KeyboardInterrupt",
     "evalue": "",
     "output_type": "error",
     "traceback": [
      "\u001b[0;31m---------------------------------------------------------------------------\u001b[0m",
      "\u001b[0;31mKeyboardInterrupt\u001b[0m                         Traceback (most recent call last)",
      "Cell \u001b[0;32mIn[27], line 60\u001b[0m\n\u001b[1;32m     57\u001b[0m num_layers \u001b[38;5;241m=\u001b[39m \u001b[38;5;241m2\u001b[39m\n\u001b[1;32m     59\u001b[0m model \u001b[38;5;241m=\u001b[39m MusicRNN(vocab_size, embedding_dim, hidden_dim, num_layers)\n\u001b[0;32m---> 60\u001b[0m \u001b[43mtrain\u001b[49m\u001b[43m(\u001b[49m\u001b[43mmodel\u001b[49m\u001b[43m,\u001b[49m\u001b[43m \u001b[49m\u001b[43mtrain_loader\u001b[49m\u001b[43m,\u001b[49m\u001b[43m \u001b[49m\u001b[43mtest_loader\u001b[49m\u001b[43m,\u001b[49m\u001b[43m \u001b[49m\u001b[43mvocab_size\u001b[49m\u001b[43m,\u001b[49m\u001b[43m \u001b[49m\u001b[43mdevice\u001b[49m\u001b[38;5;241;43m=\u001b[39;49m\u001b[38;5;124;43m'\u001b[39;49m\u001b[38;5;124;43mcpu\u001b[39;49m\u001b[38;5;124;43m'\u001b[39;49m\u001b[43m)\u001b[49m\n",
      "Cell \u001b[0;32mIn[27], line 23\u001b[0m, in \u001b[0;36mtrain\u001b[0;34m(model, train_loader, val_loader, vocab_size, num_epochs, lr, device)\u001b[0m\n\u001b[1;32m     20\u001b[0m targets \u001b[38;5;241m=\u001b[39m targets\u001b[38;5;241m.\u001b[39mreshape(\u001b[38;5;241m-\u001b[39m\u001b[38;5;241m1\u001b[39m)\n\u001b[1;32m     22\u001b[0m loss \u001b[38;5;241m=\u001b[39m criterion(outputs, targets)\n\u001b[0;32m---> 23\u001b[0m \u001b[43mloss\u001b[49m\u001b[38;5;241;43m.\u001b[39;49m\u001b[43mbackward\u001b[49m\u001b[43m(\u001b[49m\u001b[43m)\u001b[49m\n\u001b[1;32m     24\u001b[0m optimizer\u001b[38;5;241m.\u001b[39mstep()\n\u001b[1;32m     26\u001b[0m total_train_loss \u001b[38;5;241m+\u001b[39m\u001b[38;5;241m=\u001b[39m loss\u001b[38;5;241m.\u001b[39mitem()\n",
      "File \u001b[0;32m~/Desktop/ucsd/cse_253/cse153-group-project/.env/lib/python3.10/site-packages/torch/_tensor.py:648\u001b[0m, in \u001b[0;36mTensor.backward\u001b[0;34m(self, gradient, retain_graph, create_graph, inputs)\u001b[0m\n\u001b[1;32m    638\u001b[0m \u001b[38;5;28;01mif\u001b[39;00m has_torch_function_unary(\u001b[38;5;28mself\u001b[39m):\n\u001b[1;32m    639\u001b[0m     \u001b[38;5;28;01mreturn\u001b[39;00m handle_torch_function(\n\u001b[1;32m    640\u001b[0m         Tensor\u001b[38;5;241m.\u001b[39mbackward,\n\u001b[1;32m    641\u001b[0m         (\u001b[38;5;28mself\u001b[39m,),\n\u001b[0;32m   (...)\u001b[0m\n\u001b[1;32m    646\u001b[0m         inputs\u001b[38;5;241m=\u001b[39minputs,\n\u001b[1;32m    647\u001b[0m     )\n\u001b[0;32m--> 648\u001b[0m \u001b[43mtorch\u001b[49m\u001b[38;5;241;43m.\u001b[39;49m\u001b[43mautograd\u001b[49m\u001b[38;5;241;43m.\u001b[39;49m\u001b[43mbackward\u001b[49m\u001b[43m(\u001b[49m\n\u001b[1;32m    649\u001b[0m \u001b[43m    \u001b[49m\u001b[38;5;28;43mself\u001b[39;49m\u001b[43m,\u001b[49m\u001b[43m \u001b[49m\u001b[43mgradient\u001b[49m\u001b[43m,\u001b[49m\u001b[43m \u001b[49m\u001b[43mretain_graph\u001b[49m\u001b[43m,\u001b[49m\u001b[43m \u001b[49m\u001b[43mcreate_graph\u001b[49m\u001b[43m,\u001b[49m\u001b[43m \u001b[49m\u001b[43minputs\u001b[49m\u001b[38;5;241;43m=\u001b[39;49m\u001b[43minputs\u001b[49m\n\u001b[1;32m    650\u001b[0m \u001b[43m\u001b[49m\u001b[43m)\u001b[49m\n",
      "File \u001b[0;32m~/Desktop/ucsd/cse_253/cse153-group-project/.env/lib/python3.10/site-packages/torch/autograd/__init__.py:353\u001b[0m, in \u001b[0;36mbackward\u001b[0;34m(tensors, grad_tensors, retain_graph, create_graph, grad_variables, inputs)\u001b[0m\n\u001b[1;32m    348\u001b[0m     retain_graph \u001b[38;5;241m=\u001b[39m create_graph\n\u001b[1;32m    350\u001b[0m \u001b[38;5;66;03m# The reason we repeat the same comment below is that\u001b[39;00m\n\u001b[1;32m    351\u001b[0m \u001b[38;5;66;03m# some Python versions print out the first line of a multi-line function\u001b[39;00m\n\u001b[1;32m    352\u001b[0m \u001b[38;5;66;03m# calls in the traceback and some print out the last line\u001b[39;00m\n\u001b[0;32m--> 353\u001b[0m \u001b[43m_engine_run_backward\u001b[49m\u001b[43m(\u001b[49m\n\u001b[1;32m    354\u001b[0m \u001b[43m    \u001b[49m\u001b[43mtensors\u001b[49m\u001b[43m,\u001b[49m\n\u001b[1;32m    355\u001b[0m \u001b[43m    \u001b[49m\u001b[43mgrad_tensors_\u001b[49m\u001b[43m,\u001b[49m\n\u001b[1;32m    356\u001b[0m \u001b[43m    \u001b[49m\u001b[43mretain_graph\u001b[49m\u001b[43m,\u001b[49m\n\u001b[1;32m    357\u001b[0m \u001b[43m    \u001b[49m\u001b[43mcreate_graph\u001b[49m\u001b[43m,\u001b[49m\n\u001b[1;32m    358\u001b[0m \u001b[43m    \u001b[49m\u001b[43minputs\u001b[49m\u001b[43m,\u001b[49m\n\u001b[1;32m    359\u001b[0m \u001b[43m    \u001b[49m\u001b[43mallow_unreachable\u001b[49m\u001b[38;5;241;43m=\u001b[39;49m\u001b[38;5;28;43;01mTrue\u001b[39;49;00m\u001b[43m,\u001b[49m\n\u001b[1;32m    360\u001b[0m \u001b[43m    \u001b[49m\u001b[43maccumulate_grad\u001b[49m\u001b[38;5;241;43m=\u001b[39;49m\u001b[38;5;28;43;01mTrue\u001b[39;49;00m\u001b[43m,\u001b[49m\n\u001b[1;32m    361\u001b[0m \u001b[43m\u001b[49m\u001b[43m)\u001b[49m\n",
      "File \u001b[0;32m~/Desktop/ucsd/cse_253/cse153-group-project/.env/lib/python3.10/site-packages/torch/autograd/graph.py:824\u001b[0m, in \u001b[0;36m_engine_run_backward\u001b[0;34m(t_outputs, *args, **kwargs)\u001b[0m\n\u001b[1;32m    822\u001b[0m     unregister_hooks \u001b[38;5;241m=\u001b[39m _register_logging_hooks_on_whole_graph(t_outputs)\n\u001b[1;32m    823\u001b[0m \u001b[38;5;28;01mtry\u001b[39;00m:\n\u001b[0;32m--> 824\u001b[0m     \u001b[38;5;28;01mreturn\u001b[39;00m \u001b[43mVariable\u001b[49m\u001b[38;5;241;43m.\u001b[39;49m\u001b[43m_execution_engine\u001b[49m\u001b[38;5;241;43m.\u001b[39;49m\u001b[43mrun_backward\u001b[49m\u001b[43m(\u001b[49m\u001b[43m  \u001b[49m\u001b[38;5;66;43;03m# Calls into the C++ engine to run the backward pass\u001b[39;49;00m\n\u001b[1;32m    825\u001b[0m \u001b[43m        \u001b[49m\u001b[43mt_outputs\u001b[49m\u001b[43m,\u001b[49m\u001b[43m \u001b[49m\u001b[38;5;241;43m*\u001b[39;49m\u001b[43margs\u001b[49m\u001b[43m,\u001b[49m\u001b[43m \u001b[49m\u001b[38;5;241;43m*\u001b[39;49m\u001b[38;5;241;43m*\u001b[39;49m\u001b[43mkwargs\u001b[49m\n\u001b[1;32m    826\u001b[0m \u001b[43m    \u001b[49m\u001b[43m)\u001b[49m  \u001b[38;5;66;03m# Calls into the C++ engine to run the backward pass\u001b[39;00m\n\u001b[1;32m    827\u001b[0m \u001b[38;5;28;01mfinally\u001b[39;00m:\n\u001b[1;32m    828\u001b[0m     \u001b[38;5;28;01mif\u001b[39;00m attach_logging_hooks:\n",
      "\u001b[0;31mKeyboardInterrupt\u001b[0m: "
     ]
    }
   ],
   "source": [
    "def train(model, train_loader, val_loader, vocab_size, num_epochs=20, lr=0.001, device='cuda'):\n",
    "    model = model.to(device)\n",
    "    criterion = nn.CrossEntropyLoss()\n",
    "    optimizer = optim.Adam(model.parameters(), lr=lr)\n",
    "\n",
    "    for epoch in range(num_epochs):\n",
    "        # --------- Training ---------\n",
    "        model.train()\n",
    "        total_train_loss = 0\n",
    "\n",
    "        for batch in train_loader:\n",
    "            batch = batch['input_ids'].to(device)  # (batch_size, seq_length)\n",
    "\n",
    "            inputs = batch[:, :-1]\n",
    "            targets = batch[:, 1:]\n",
    "\n",
    "            optimizer.zero_grad()\n",
    "            outputs, _ = model(inputs)\n",
    "            outputs = outputs.reshape(-1, vocab_size)\n",
    "            targets = targets.reshape(-1)\n",
    "\n",
    "            loss = criterion(outputs, targets)\n",
    "            loss.backward()\n",
    "            optimizer.step()\n",
    "\n",
    "            total_train_loss += loss.item()\n",
    "\n",
    "        avg_train_loss = total_train_loss / len(train_loader)\n",
    "\n",
    "        # --------- Validation ---------\n",
    "        model.eval()\n",
    "        total_val_loss = 0\n",
    "        with torch.no_grad():\n",
    "            for batch in val_loader:\n",
    "                batch = batch['input_ids'].to(device)\n",
    "\n",
    "                inputs = batch[:, :-1]\n",
    "                targets = batch[:, 1:]\n",
    "\n",
    "                outputs, _ = model(inputs)\n",
    "                outputs = outputs.reshape(-1, vocab_size)\n",
    "                targets = targets.reshape(-1)\n",
    "\n",
    "                loss = criterion(outputs, targets)\n",
    "                total_val_loss += loss.item()\n",
    "\n",
    "        avg_val_loss = total_val_loss / len(val_loader)\n",
    "\n",
    "        print(f\"Epoch {epoch+1}/{num_epochs} | Train Loss: {avg_train_loss:.4f} | Val Loss: {avg_val_loss:.4f}\")\n",
    "\n",
    "\n",
    "# Example usage\n",
    "if __name__ == \"__main__\":\n",
    "    vocab_size = tokenizer.vocab_size\n",
    "    embedding_dim = 256\n",
    "    hidden_dim = 512\n",
    "    num_layers = 2\n",
    "\n",
    "    model = MusicRNN(vocab_size, embedding_dim, hidden_dim, num_layers)\n",
    "    train(model, train_loader, test_loader, vocab_size, device='cpu')"
   ]
  },
  {
   "cell_type": "markdown",
   "id": "20676535",
   "metadata": {},
   "source": [
    "### Magenta LSTM Model (UNSUCCESSFUL)"
   ]
  },
  {
   "cell_type": "code",
   "execution_count": null,
   "id": "d7f58951",
   "metadata": {},
   "outputs": [
    {
     "name": "stdout",
     "output_type": "stream",
     "text": [
      "Processing train MIDI files |██████████████████████████████████████████████████| 100.0% Complete\n",
      "Processing valid MIDI files |██████████████████████████████████████████████████| 100.0% Complete\n",
      "Processing test MIDI files |██████████████████████████████████████████████████| 100.0% Complete\n"
     ]
    }
   ],
   "source": [
    "# filter the MIDI files to only include instruments with program number 81\n",
    "# This is used as a starting point to train the performance-rnn model (as it is best suited for single instrument MIDI files)\n",
    "def filter_program_81(input_root, output_root):\n",
    "    for split in ['train', 'valid', 'test']:\n",
    "        input_dir = os.path.join(input_root, split)\n",
    "        output_dir = os.path.join(output_root, split)\n",
    "        os.makedirs(output_dir, exist_ok=True)\n",
    "        \n",
    "        for i, fname in enumerate(os.listdir(input_dir)):\n",
    "            print_progress_bar(i+1, len(os.listdir(input_dir)), prefix=f'Processing {split} MIDI files')\n",
    "            if not fname.lower().endswith('.mid'):\n",
    "                continue\n",
    "            path = os.path.join(input_dir, fname)\n",
    "            midi = MidiFile(path)\n",
    "            filtered_instr = [inst for inst in midi.instruments if inst.program == 81]\n",
    "            \n",
    "            if filtered_instr:\n",
    "                midi.instruments = filtered_instr\n",
    "                midi.dump(os.path.join(output_dir, fname))\n",
    "\n",
    "# filter_program_81(midi_dirpath, 'nesmdb_midi_program_81') "
   ]
  },
  {
   "cell_type": "code",
   "execution_count": 37,
   "id": "c232d2bd",
   "metadata": {},
   "outputs": [
    {
     "name": "stderr",
     "output_type": "stream",
     "text": [
      "Traceback (most recent call last):\n",
      "  File \"/Users/leofriedman/Desktop/ucsd/cse_253/cse153-group-project/.env/bin/convert_dir_to_note_sequences\", line 5, in <module>\n",
      "    from magenta.scripts.convert_dir_to_note_sequences import console_entry_point\n",
      "  File \"/Users/leofriedman/Desktop/ucsd/cse_253/cse153-group-project/.env/lib/python3.10/site-packages/magenta/__init__.py\", line 17, in <module>\n",
      "    import magenta.common.beam_search\n",
      "  File \"/Users/leofriedman/Desktop/ucsd/cse_253/cse153-group-project/.env/lib/python3.10/site-packages/magenta/common/__init__.py\", line 20, in <module>\n",
      "    from .nade import Nade\n",
      "  File \"/Users/leofriedman/Desktop/ucsd/cse_253/cse153-group-project/.env/lib/python3.10/site-packages/magenta/common/nade.py\", line 24, in <module>\n",
      "    import tensorflow_probability as tfp\n",
      "ModuleNotFoundError: No module named 'tensorflow_probability'\n"
     ]
    },
    {
     "ename": "CalledProcessError",
     "evalue": "Command '['convert_dir_to_note_sequences', '--input_dir=nesmdb_81_midi/train', '--output_file=nesmdb_81_notesequences.tfrecord', '--recursive']' returned non-zero exit status 1.",
     "output_type": "error",
     "traceback": [
      "\u001b[0;31m---------------------------------------------------------------------------\u001b[0m",
      "\u001b[0;31mCalledProcessError\u001b[0m                        Traceback (most recent call last)",
      "Cell \u001b[0;32mIn[37], line 9\u001b[0m\n\u001b[1;32m      1\u001b[0m \u001b[38;5;28;01mdef\u001b[39;00m\u001b[38;5;250m \u001b[39m\u001b[38;5;21mmidi_to_note_sequence\u001b[39m(midi_dir):\n\u001b[1;32m      2\u001b[0m     subprocess\u001b[38;5;241m.\u001b[39mrun([\n\u001b[1;32m      3\u001b[0m         \u001b[38;5;124m'\u001b[39m\u001b[38;5;124mconvert_dir_to_note_sequences\u001b[39m\u001b[38;5;124m'\u001b[39m,\n\u001b[1;32m      4\u001b[0m         \u001b[38;5;124m'\u001b[39m\u001b[38;5;124m--input_dir=nesmdb_81_midi/train\u001b[39m\u001b[38;5;124m'\u001b[39m,\n\u001b[1;32m      5\u001b[0m         \u001b[38;5;124m'\u001b[39m\u001b[38;5;124m--output_file=nesmdb_81_notesequences.tfrecord\u001b[39m\u001b[38;5;124m'\u001b[39m,\n\u001b[1;32m      6\u001b[0m         \u001b[38;5;124m'\u001b[39m\u001b[38;5;124m--recursive\u001b[39m\u001b[38;5;124m'\u001b[39m\n\u001b[1;32m      7\u001b[0m     ], check\u001b[38;5;241m=\u001b[39m\u001b[38;5;28;01mTrue\u001b[39;00m)\n\u001b[0;32m----> 9\u001b[0m \u001b[43mmidi_to_note_sequence\u001b[49m\u001b[43m(\u001b[49m\u001b[38;5;124;43m'\u001b[39;49m\u001b[38;5;124;43mnesmdb_81_midi/train\u001b[39;49m\u001b[38;5;124;43m'\u001b[39;49m\u001b[43m)\u001b[49m\n",
      "Cell \u001b[0;32mIn[37], line 2\u001b[0m, in \u001b[0;36mmidi_to_note_sequence\u001b[0;34m(midi_dir)\u001b[0m\n\u001b[1;32m      1\u001b[0m \u001b[38;5;28;01mdef\u001b[39;00m\u001b[38;5;250m \u001b[39m\u001b[38;5;21mmidi_to_note_sequence\u001b[39m(midi_dir):\n\u001b[0;32m----> 2\u001b[0m     \u001b[43msubprocess\u001b[49m\u001b[38;5;241;43m.\u001b[39;49m\u001b[43mrun\u001b[49m\u001b[43m(\u001b[49m\u001b[43m[\u001b[49m\n\u001b[1;32m      3\u001b[0m \u001b[43m        \u001b[49m\u001b[38;5;124;43m'\u001b[39;49m\u001b[38;5;124;43mconvert_dir_to_note_sequences\u001b[39;49m\u001b[38;5;124;43m'\u001b[39;49m\u001b[43m,\u001b[49m\n\u001b[1;32m      4\u001b[0m \u001b[43m        \u001b[49m\u001b[38;5;124;43m'\u001b[39;49m\u001b[38;5;124;43m--input_dir=nesmdb_81_midi/train\u001b[39;49m\u001b[38;5;124;43m'\u001b[39;49m\u001b[43m,\u001b[49m\n\u001b[1;32m      5\u001b[0m \u001b[43m        \u001b[49m\u001b[38;5;124;43m'\u001b[39;49m\u001b[38;5;124;43m--output_file=nesmdb_81_notesequences.tfrecord\u001b[39;49m\u001b[38;5;124;43m'\u001b[39;49m\u001b[43m,\u001b[49m\n\u001b[1;32m      6\u001b[0m \u001b[43m        \u001b[49m\u001b[38;5;124;43m'\u001b[39;49m\u001b[38;5;124;43m--recursive\u001b[39;49m\u001b[38;5;124;43m'\u001b[39;49m\n\u001b[1;32m      7\u001b[0m \u001b[43m    \u001b[49m\u001b[43m]\u001b[49m\u001b[43m,\u001b[49m\u001b[43m \u001b[49m\u001b[43mcheck\u001b[49m\u001b[38;5;241;43m=\u001b[39;49m\u001b[38;5;28;43;01mTrue\u001b[39;49;00m\u001b[43m)\u001b[49m\n",
      "File \u001b[0;32m~/.pyenv/versions/3.10.3/lib/python3.10/subprocess.py:524\u001b[0m, in \u001b[0;36mrun\u001b[0;34m(input, capture_output, timeout, check, *popenargs, **kwargs)\u001b[0m\n\u001b[1;32m    522\u001b[0m     retcode \u001b[38;5;241m=\u001b[39m process\u001b[38;5;241m.\u001b[39mpoll()\n\u001b[1;32m    523\u001b[0m     \u001b[38;5;28;01mif\u001b[39;00m check \u001b[38;5;129;01mand\u001b[39;00m retcode:\n\u001b[0;32m--> 524\u001b[0m         \u001b[38;5;28;01mraise\u001b[39;00m CalledProcessError(retcode, process\u001b[38;5;241m.\u001b[39margs,\n\u001b[1;32m    525\u001b[0m                                  output\u001b[38;5;241m=\u001b[39mstdout, stderr\u001b[38;5;241m=\u001b[39mstderr)\n\u001b[1;32m    526\u001b[0m \u001b[38;5;28;01mreturn\u001b[39;00m CompletedProcess(process\u001b[38;5;241m.\u001b[39margs, retcode, stdout, stderr)\n",
      "\u001b[0;31mCalledProcessError\u001b[0m: Command '['convert_dir_to_note_sequences', '--input_dir=nesmdb_81_midi/train', '--output_file=nesmdb_81_notesequences.tfrecord', '--recursive']' returned non-zero exit status 1."
     ]
    }
   ],
   "source": [
    "def midi_to_note_sequence(midi_dir):\n",
    "    subprocess.run([\n",
    "        'convert_dir_to_note_sequences',\n",
    "        '--input_dir=nesmdb_81_midi/train',\n",
    "        '--output_file=nesmdb_81_notesequences.tfrecord',\n",
    "        '--recursive'\n",
    "    ], check=True)\n",
    "\n",
    "midi_to_note_sequence('nesmdb_81_midi/train')"
   ]
  },
  {
   "cell_type": "code",
   "execution_count": null,
   "id": "3223d0fc",
   "metadata": {},
   "outputs": [],
   "source": [
    "def train_performance_rnn():\n",
    "    current_time = datetime.datetime.now()\n",
    "    subprocess.run([\n",
    "        \"performance_rnn_train\",\n",
    "        f\"--run_dir=logdir/performance_rnn_finetune/{current_time}\",\n",
    "        \"--sequence_example_file=nesmdb_81_notesequences.tfrecord\",\n",
    "        '--hparams=batch_size=64,rnn_layer_sizes=[256,256]',\n",
    "        \"--num_training_steps=5000\",\n",
    "        \"--bundle_file=performance_with_dynamics.mag\",\n",
    "        \"--save_checkpoints_steps=100\",\n",
    "        \"--alsologtostderr\"\n",
    "    ], check=True)\n",
    "\n",
    "# train_performance_rnn()"
   ]
  },
  {
   "cell_type": "code",
   "execution_count": null,
   "id": "246d073d",
   "metadata": {},
   "outputs": [],
   "source": [
    "def generate_midi_from_performance_rnn():\n",
    "    current_time = datetime.datetime.now()\n",
    "    subprocess.run([\n",
    "        \"performance_rnn_generate\",\n",
    "        \"--bundle_file=performance_with_dynamics.mag\",\n",
    "        f\"--output_dir=performance_rnn_generated/{current_time}\",\n",
    "        \"--num_outputs=1\",\n",
    "        \"--num_steps=4000\",  # ~1 minute at 100 qpm\n",
    "        \"--hparams=batch_size=64,rnn_layer_sizes=[256,256]\",\n",
    "        \"--condition_on_primer=false\",\n",
    "        \"--inject_primer_during_generation=false\",\n",
    "        \"--instrument=81\",\n",
    "        \"--alsologtostderr\"\n",
    "    ], check=True)"
   ]
  }
 ],
 "metadata": {
  "kernelspec": {
   "display_name": ".env",
   "language": "python",
   "name": "python3"
  },
  "language_info": {
   "codemirror_mode": {
    "name": "ipython",
    "version": 3
   },
   "file_extension": ".py",
   "mimetype": "text/x-python",
   "name": "python",
   "nbconvert_exporter": "python",
   "pygments_lexer": "ipython3",
   "version": "3.10.3"
  }
 },
 "nbformat": 4,
 "nbformat_minor": 5
}
