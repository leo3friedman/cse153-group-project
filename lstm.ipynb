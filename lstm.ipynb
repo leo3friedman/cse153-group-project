{
 "cells": [
  {
   "cell_type": "code",
   "execution_count": 34,
   "id": "7a57a6cf",
   "metadata": {},
   "outputs": [],
   "source": [
    "# !pip install miditoolkit \n",
    "# !pip install magenta"
   ]
  },
  {
   "cell_type": "code",
   "execution_count": 35,
   "id": "ba0a244f",
   "metadata": {},
   "outputs": [],
   "source": [
    "import os\n",
    "import random\n",
    "from miditoolkit import MidiFile\n",
    "import matplotlib.pyplot as plt\n",
    "from collections import Counter\n",
    "import subprocess\n",
    "import datetime"
   ]
  },
  {
   "cell_type": "markdown",
   "id": "f5c64c6a",
   "metadata": {},
   "source": [
    "### Data Exploration"
   ]
  },
  {
   "cell_type": "code",
   "execution_count": 5,
   "id": "0b01840e",
   "metadata": {},
   "outputs": [],
   "source": [
    "midi_dirpath = 'nesmdb_midi/'\n",
    "midi_train_dirpath = os.path.join(midi_dirpath, 'train')\n",
    "midi_train_filesnames = os.listdir(midi_train_dirpath)\n",
    "midi_train_filepaths = [os.path.join(midi_train_dirpath, filename) for filename in midi_train_filesnames]"
   ]
  },
  {
   "cell_type": "code",
   "execution_count": 6,
   "id": "fc4d1332",
   "metadata": {},
   "outputs": [],
   "source": [
    "def print_progress_bar(iteration, total, prefix='', length=50):\n",
    "    percent = (\"{0:.1f}\").format(100 * (iteration / float(total)))\n",
    "    filled_length = int(length * iteration // total)\n",
    "    bar = '█' * filled_length + '-' * (length - filled_length)\n",
    "    print(f'\\r{prefix} |{bar}| {percent}% Complete', end='\\r', flush=True)\n",
    "    if iteration == total:\n",
    "        print()"
   ]
  },
  {
   "cell_type": "code",
   "execution_count": 8,
   "id": "9dac49b2",
   "metadata": {},
   "outputs": [],
   "source": [
    "def to_pretty_midi(filepaths: list, num_samples: int = 100) -> list: \n",
    "    sampled_filepaths = random.sample(filepaths, num_samples)\n",
    "    midis = []\n",
    "    for i, filepath in enumerate(sampled_filepaths):\n",
    "        print_progress_bar(i + 1, num_samples, prefix='Converting MIDI files to PrettyMIDI')\n",
    "        try:\n",
    "            midi = MidiFile(filepath)\n",
    "            midis.append(midi)\n",
    "        except Exception as e:\n",
    "            print(f\"Error processing {filepath}: {e}\")\n",
    "        \n",
    "    return midis"
   ]
  },
  {
   "cell_type": "code",
   "execution_count": 9,
   "id": "97cc8a3d",
   "metadata": {},
   "outputs": [
    {
     "name": "stdout",
     "output_type": "stream",
     "text": [
      "Converting MIDI files to PrettyMIDI |██████████████████████████████████████████████████| 100.0% Complete\n"
     ]
    }
   ],
   "source": [
    "midis = to_pretty_midi(midi_train_filepaths, num_samples=len(midi_train_filepaths))\n"
   ]
  },
  {
   "cell_type": "code",
   "execution_count": 28,
   "id": "4bcca336",
   "metadata": {},
   "outputs": [
    {
     "name": "stdout",
     "output_type": "stream",
     "text": [
      "Instrument count distribution: {4: 2439, 3: 1509, 2: 450, 1: 102, 0: 2}\n",
      "Unique instruments: {80, 81, 38, 121}\n",
      "Unique instruments distribution: {80: 4334, 81: 4259, 38: 4045, 121: 2647}\n",
      "Instrument set distribution: {(38, 80, 81, 121): 2439, (38, 80, 81): 1327, (80, 81): 277, (38, 81): 58, (38, 80, 121): 50, (38, 81, 121): 37, (80, 81, 121): 95, (80,): 41, (38, 80): 97, (38, 121): 8, (80, 121): 8, (81,): 24, (81, 121): 2, (38,): 29, (121,): 8, (): 2}\n"
     ]
    }
   ],
   "source": [
    "instrument_count_distribution = Counter(len(midi.instruments) for midi in midis)\n",
    "unique_instruments = set([int(instrument.program) for midi in midis for instrument in midi.instruments])\n",
    "unique_instruments_distribution = Counter([int(instrument.program) for midi in midis for instrument in midi.instruments])\n",
    "instrument_sets_distribution = Counter(tuple(sorted([int(instrument.program) for instrument in midi.instruments])) for midi in midis)\n",
    "print(\"Instrument count distribution:\", dict(instrument_count_distribution))\n",
    "print(\"Unique instruments:\", unique_instruments)\n",
    "print(\"Unique instruments distribution:\", dict(unique_instruments_distribution))\n",
    "print(\"Instrument set distribution:\", dict(instrument_sets_distribution))"
   ]
  },
  {
   "cell_type": "markdown",
   "id": "20676535",
   "metadata": {},
   "source": [
    "### LSTM Model"
   ]
  },
  {
   "cell_type": "code",
   "execution_count": null,
   "id": "d7f58951",
   "metadata": {},
   "outputs": [
    {
     "name": "stdout",
     "output_type": "stream",
     "text": [
      "Processing train MIDI files |██████████████████████████████████████████████████| 100.0% Complete\n",
      "Processing valid MIDI files |██████████████████████████████████████████████████| 100.0% Complete\n",
      "Processing test MIDI files |██████████████████████████████████████████████████| 100.0% Complete\n"
     ]
    }
   ],
   "source": [
    "# filter the MIDI files to only include instruments with program number 81\n",
    "# This is used as a starting point to train the performance-rnn model (as it is best suited for single instrument MIDI files)\n",
    "def filter_program_81(input_root, output_root):\n",
    "    for split in ['train', 'valid', 'test']:\n",
    "        input_dir = os.path.join(input_root, split)\n",
    "        output_dir = os.path.join(output_root, split)\n",
    "        os.makedirs(output_dir, exist_ok=True)\n",
    "        \n",
    "        for i, fname in enumerate(os.listdir(input_dir)):\n",
    "            print_progress_bar(i+1, len(os.listdir(input_dir)), prefix=f'Processing {split} MIDI files')\n",
    "            if not fname.lower().endswith('.mid'):\n",
    "                continue\n",
    "            path = os.path.join(input_dir, fname)\n",
    "            midi = MidiFile(path)\n",
    "            filtered_instr = [inst for inst in midi.instruments if inst.program == 81]\n",
    "            \n",
    "            if filtered_instr:\n",
    "                midi.instruments = filtered_instr\n",
    "                midi.dump(os.path.join(output_dir, fname))\n",
    "\n",
    "# filter_program_81(midi_dirpath, 'nesmdb_midi_program_81') "
   ]
  },
  {
   "cell_type": "code",
   "execution_count": 37,
   "id": "c232d2bd",
   "metadata": {},
   "outputs": [
    {
     "name": "stderr",
     "output_type": "stream",
     "text": [
      "Traceback (most recent call last):\n",
      "  File \"/Users/leofriedman/Desktop/ucsd/cse_253/cse153-group-project/.env/bin/convert_dir_to_note_sequences\", line 5, in <module>\n",
      "    from magenta.scripts.convert_dir_to_note_sequences import console_entry_point\n",
      "  File \"/Users/leofriedman/Desktop/ucsd/cse_253/cse153-group-project/.env/lib/python3.10/site-packages/magenta/__init__.py\", line 17, in <module>\n",
      "    import magenta.common.beam_search\n",
      "  File \"/Users/leofriedman/Desktop/ucsd/cse_253/cse153-group-project/.env/lib/python3.10/site-packages/magenta/common/__init__.py\", line 20, in <module>\n",
      "    from .nade import Nade\n",
      "  File \"/Users/leofriedman/Desktop/ucsd/cse_253/cse153-group-project/.env/lib/python3.10/site-packages/magenta/common/nade.py\", line 24, in <module>\n",
      "    import tensorflow_probability as tfp\n",
      "ModuleNotFoundError: No module named 'tensorflow_probability'\n"
     ]
    },
    {
     "ename": "CalledProcessError",
     "evalue": "Command '['convert_dir_to_note_sequences', '--input_dir=nesmdb_81_midi/train', '--output_file=nesmdb_81_notesequences.tfrecord', '--recursive']' returned non-zero exit status 1.",
     "output_type": "error",
     "traceback": [
      "\u001b[0;31m---------------------------------------------------------------------------\u001b[0m",
      "\u001b[0;31mCalledProcessError\u001b[0m                        Traceback (most recent call last)",
      "Cell \u001b[0;32mIn[37], line 9\u001b[0m\n\u001b[1;32m      1\u001b[0m \u001b[38;5;28;01mdef\u001b[39;00m\u001b[38;5;250m \u001b[39m\u001b[38;5;21mmidi_to_note_sequence\u001b[39m(midi_dir):\n\u001b[1;32m      2\u001b[0m     subprocess\u001b[38;5;241m.\u001b[39mrun([\n\u001b[1;32m      3\u001b[0m         \u001b[38;5;124m'\u001b[39m\u001b[38;5;124mconvert_dir_to_note_sequences\u001b[39m\u001b[38;5;124m'\u001b[39m,\n\u001b[1;32m      4\u001b[0m         \u001b[38;5;124m'\u001b[39m\u001b[38;5;124m--input_dir=nesmdb_81_midi/train\u001b[39m\u001b[38;5;124m'\u001b[39m,\n\u001b[1;32m      5\u001b[0m         \u001b[38;5;124m'\u001b[39m\u001b[38;5;124m--output_file=nesmdb_81_notesequences.tfrecord\u001b[39m\u001b[38;5;124m'\u001b[39m,\n\u001b[1;32m      6\u001b[0m         \u001b[38;5;124m'\u001b[39m\u001b[38;5;124m--recursive\u001b[39m\u001b[38;5;124m'\u001b[39m\n\u001b[1;32m      7\u001b[0m     ], check\u001b[38;5;241m=\u001b[39m\u001b[38;5;28;01mTrue\u001b[39;00m)\n\u001b[0;32m----> 9\u001b[0m \u001b[43mmidi_to_note_sequence\u001b[49m\u001b[43m(\u001b[49m\u001b[38;5;124;43m'\u001b[39;49m\u001b[38;5;124;43mnesmdb_81_midi/train\u001b[39;49m\u001b[38;5;124;43m'\u001b[39;49m\u001b[43m)\u001b[49m\n",
      "Cell \u001b[0;32mIn[37], line 2\u001b[0m, in \u001b[0;36mmidi_to_note_sequence\u001b[0;34m(midi_dir)\u001b[0m\n\u001b[1;32m      1\u001b[0m \u001b[38;5;28;01mdef\u001b[39;00m\u001b[38;5;250m \u001b[39m\u001b[38;5;21mmidi_to_note_sequence\u001b[39m(midi_dir):\n\u001b[0;32m----> 2\u001b[0m     \u001b[43msubprocess\u001b[49m\u001b[38;5;241;43m.\u001b[39;49m\u001b[43mrun\u001b[49m\u001b[43m(\u001b[49m\u001b[43m[\u001b[49m\n\u001b[1;32m      3\u001b[0m \u001b[43m        \u001b[49m\u001b[38;5;124;43m'\u001b[39;49m\u001b[38;5;124;43mconvert_dir_to_note_sequences\u001b[39;49m\u001b[38;5;124;43m'\u001b[39;49m\u001b[43m,\u001b[49m\n\u001b[1;32m      4\u001b[0m \u001b[43m        \u001b[49m\u001b[38;5;124;43m'\u001b[39;49m\u001b[38;5;124;43m--input_dir=nesmdb_81_midi/train\u001b[39;49m\u001b[38;5;124;43m'\u001b[39;49m\u001b[43m,\u001b[49m\n\u001b[1;32m      5\u001b[0m \u001b[43m        \u001b[49m\u001b[38;5;124;43m'\u001b[39;49m\u001b[38;5;124;43m--output_file=nesmdb_81_notesequences.tfrecord\u001b[39;49m\u001b[38;5;124;43m'\u001b[39;49m\u001b[43m,\u001b[49m\n\u001b[1;32m      6\u001b[0m \u001b[43m        \u001b[49m\u001b[38;5;124;43m'\u001b[39;49m\u001b[38;5;124;43m--recursive\u001b[39;49m\u001b[38;5;124;43m'\u001b[39;49m\n\u001b[1;32m      7\u001b[0m \u001b[43m    \u001b[49m\u001b[43m]\u001b[49m\u001b[43m,\u001b[49m\u001b[43m \u001b[49m\u001b[43mcheck\u001b[49m\u001b[38;5;241;43m=\u001b[39;49m\u001b[38;5;28;43;01mTrue\u001b[39;49;00m\u001b[43m)\u001b[49m\n",
      "File \u001b[0;32m~/.pyenv/versions/3.10.3/lib/python3.10/subprocess.py:524\u001b[0m, in \u001b[0;36mrun\u001b[0;34m(input, capture_output, timeout, check, *popenargs, **kwargs)\u001b[0m\n\u001b[1;32m    522\u001b[0m     retcode \u001b[38;5;241m=\u001b[39m process\u001b[38;5;241m.\u001b[39mpoll()\n\u001b[1;32m    523\u001b[0m     \u001b[38;5;28;01mif\u001b[39;00m check \u001b[38;5;129;01mand\u001b[39;00m retcode:\n\u001b[0;32m--> 524\u001b[0m         \u001b[38;5;28;01mraise\u001b[39;00m CalledProcessError(retcode, process\u001b[38;5;241m.\u001b[39margs,\n\u001b[1;32m    525\u001b[0m                                  output\u001b[38;5;241m=\u001b[39mstdout, stderr\u001b[38;5;241m=\u001b[39mstderr)\n\u001b[1;32m    526\u001b[0m \u001b[38;5;28;01mreturn\u001b[39;00m CompletedProcess(process\u001b[38;5;241m.\u001b[39margs, retcode, stdout, stderr)\n",
      "\u001b[0;31mCalledProcessError\u001b[0m: Command '['convert_dir_to_note_sequences', '--input_dir=nesmdb_81_midi/train', '--output_file=nesmdb_81_notesequences.tfrecord', '--recursive']' returned non-zero exit status 1."
     ]
    }
   ],
   "source": [
    "def midi_to_note_sequence(midi_dir):\n",
    "    subprocess.run([\n",
    "        'convert_dir_to_note_sequences',\n",
    "        '--input_dir=nesmdb_81_midi/train',\n",
    "        '--output_file=nesmdb_81_notesequences.tfrecord',\n",
    "        '--recursive'\n",
    "    ], check=True)\n",
    "\n",
    "midi_to_note_sequence('nesmdb_81_midi/train')"
   ]
  },
  {
   "cell_type": "code",
   "execution_count": null,
   "id": "3223d0fc",
   "metadata": {},
   "outputs": [],
   "source": [
    "def train_performance_rnn():\n",
    "    current_time = datetime.datetime.now()\n",
    "    subprocess.run([\n",
    "        \"performance_rnn_train\",\n",
    "        f\"--run_dir=logdir/performance_rnn_finetune/{current_time}\",\n",
    "        \"--sequence_example_file=nesmdb_81_notesequences.tfrecord\",\n",
    "        '--hparams=batch_size=64,rnn_layer_sizes=[256,256]',\n",
    "        \"--num_training_steps=5000\",\n",
    "        \"--bundle_file=performance_with_dynamics.mag\",\n",
    "        \"--save_checkpoints_steps=100\",\n",
    "        \"--alsologtostderr\"\n",
    "    ], check=True)\n",
    "\n",
    "# train_performance_rnn()"
   ]
  },
  {
   "cell_type": "code",
   "execution_count": null,
   "id": "246d073d",
   "metadata": {},
   "outputs": [],
   "source": [
    "def generate_midi_from_performance_rnn():\n",
    "    current_time = datetime.datetime.now()\n",
    "    subprocess.run([\n",
    "        \"performance_rnn_generate\",\n",
    "        \"--bundle_file=performance_with_dynamics.mag\",\n",
    "        f\"--output_dir=performance_rnn_generated/{current_time}\",\n",
    "        \"--num_outputs=1\",\n",
    "        \"--num_steps=4000\",  # ~1 minute at 100 qpm\n",
    "        \"--hparams=batch_size=64,rnn_layer_sizes=[256,256]\",\n",
    "        \"--condition_on_primer=false\",\n",
    "        \"--inject_primer_during_generation=false\",\n",
    "        \"--instrument=81\",\n",
    "        \"--alsologtostderr\"\n",
    "    ], check=True)"
   ]
  }
 ],
 "metadata": {
  "kernelspec": {
   "display_name": "magenta-env",
   "language": "python",
   "name": "python3"
  },
  "language_info": {
   "codemirror_mode": {
    "name": "ipython",
    "version": 3
   },
   "file_extension": ".py",
   "mimetype": "text/x-python",
   "name": "python",
   "nbconvert_exporter": "python",
   "pygments_lexer": "ipython3",
   "version": "3.10.3"
  }
 },
 "nbformat": 4,
 "nbformat_minor": 5
}
